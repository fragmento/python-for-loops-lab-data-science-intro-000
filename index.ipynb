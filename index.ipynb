{
 "cells": [
  {
   "cell_type": "markdown",
   "metadata": {},
   "source": [
    "# Python For loops Lab"
   ]
  },
  {
   "cell_type": "markdown",
   "metadata": {},
   "source": [
    "### Learning Objectives"
   ]
  },
  {
   "cell_type": "markdown",
   "metadata": {},
   "source": [
    "* Understand how for loops can help us reduce repetition\n",
    "* Understand the syntax of for loops "
   ]
  },
  {
   "cell_type": "markdown",
   "metadata": {},
   "source": [
    "### Picking up where we last left off"
   ]
  },
  {
   "cell_type": "markdown",
   "metadata": {},
   "source": [
    "In the last lesson, we worked with some of our travel data.  Let's retrieve a list with our travel information again from excel.  First, we read the information from excel as a list of dictionaries, with each dictionary representing a location.  And we assign this list to the variable `cities`."
   ]
  },
  {
   "cell_type": "code",
   "execution_count": 1,
   "metadata": {},
   "outputs": [],
   "source": [
    "import pandas\n",
    "file_name = './cities.xlsx'\n",
    "travel_df = pandas.read_excel(file_name)\n",
    "cities = travel_df.to_dict('records')"
   ]
  },
  {
   "cell_type": "markdown",
   "metadata": {},
   "source": [
    "Next, we retrieve the first three city names, stored as the `'City'` attribute of each dictionary, and `'Population'` of each of the cities.  Then we plot the names as our `x_values` and the populations as our `y_values`."
   ]
  },
  {
   "cell_type": "code",
   "execution_count": 2,
   "metadata": {},
   "outputs": [
    {
     "data": {
      "text/html": [
       "<script>requirejs.config({paths: { 'plotly': ['https://cdn.plot.ly/plotly-latest.min']},});if(!window.Plotly) {{require(['plotly'],function(plotly) {window.Plotly=plotly;});}}</script>"
      ],
      "text/vnd.plotly.v1+html": [
       "<script>requirejs.config({paths: { 'plotly': ['https://cdn.plot.ly/plotly-latest.min']},});if(!window.Plotly) {{require(['plotly'],function(plotly) {window.Plotly=plotly;});}}</script>"
      ]
     },
     "metadata": {},
     "output_type": "display_data"
    },
    {
     "data": {
      "application/vnd.plotly.v1+json": {
       "data": [
        {
         "type": "bar",
         "uid": "707f036a-f51c-11e9-a272-2f01d4fcf69c",
         "x": [
          "Buenos Aires",
          "Toronto",
          "Marakesh"
         ],
         "y": [
          2891,
          2732,
          929
         ]
        }
       ],
       "layout": {}
      },
      "text/html": [
       "<div id=\"1c458010-e3ea-47bb-8935-884df60158eb\" style=\"height: 525px; width: 100%;\" class=\"plotly-graph-div\"></div><script type=\"text/javascript\">require([\"plotly\"], function(Plotly) { window.PLOTLYENV=window.PLOTLYENV || {};window.PLOTLYENV.BASE_URL=\"https://plot.ly\";Plotly.newPlot(\"1c458010-e3ea-47bb-8935-884df60158eb\", [{\"x\": [\"Buenos Aires\", \"Toronto\", \"Marakesh\"], \"y\": [2891, 2732, 929], \"type\": \"bar\", \"uid\": \"7096491c-f51c-11e9-a272-2f01d4fcf69c\"}], {}, {\"showLink\": true, \"linkText\": \"Export to plot.ly\"})});</script>"
      ],
      "text/vnd.plotly.v1+html": [
       "<div id=\"1c458010-e3ea-47bb-8935-884df60158eb\" style=\"height: 525px; width: 100%;\" class=\"plotly-graph-div\"></div><script type=\"text/javascript\">require([\"plotly\"], function(Plotly) { window.PLOTLYENV=window.PLOTLYENV || {};window.PLOTLYENV.BASE_URL=\"https://plot.ly\";Plotly.newPlot(\"1c458010-e3ea-47bb-8935-884df60158eb\", [{\"x\": [\"Buenos Aires\", \"Toronto\", \"Marakesh\"], \"y\": [2891, 2732, 929], \"type\": \"bar\", \"uid\": \"7096491c-f51c-11e9-a272-2f01d4fcf69c\"}], {}, {\"showLink\": true, \"linkText\": \"Export to plot.ly\"})});</script>"
      ]
     },
     "metadata": {},
     "output_type": "display_data"
    }
   ],
   "source": [
    "import plotly\n",
    "\n",
    "plotly.offline.init_notebook_mode(connected=True)\n",
    "\n",
    "x_values = [cities[0]['City'], cities[1]['City'], cities[2]['City']]\n",
    "y_values = [cities[0]['Population'], cities[1]['Population'], cities[2]['Population']]\n",
    "trace_first_three_pops = {'x': x_values, 'y': y_values, 'type': 'bar'}\n",
    "plotly.offline.iplot([trace_first_three_pops])"
   ]
  },
  {
   "cell_type": "markdown",
   "metadata": {},
   "source": [
    "Of course, as you may have spotted, there is a good amount of repetition in displaying this data.  Just take a look at how we retrieved the data for our `x_values` and `y_values`.  "
   ]
  },
  {
   "cell_type": "code",
   "execution_count": null,
   "metadata": {},
   "outputs": [],
   "source": [
    "x_values = [cities[0]['City'], cities[1]['City'], cities[2]['City']]\n",
    "y_values = [cities[0]['Population'], cities[1]['Population'], cities[2]['Population']]"
   ]
  },
  {
   "cell_type": "markdown",
   "metadata": {},
   "source": [
    "So in this lesson, we will use our `for` loop to display information about our travel locations with less repetition."
   ]
  },
  {
   "cell_type": "markdown",
   "metadata": {},
   "source": [
    "### Working with the For Loop"
   ]
  },
  {
   "cell_type": "markdown",
   "metadata": {},
   "source": [
    "Our `cities` list contains information about the top 12 cities by population.  For our upcoming iteration tasks, it will be useful to have a list of the numbers 0 through 11.  Use what we know about `len` and `range`to generate a list of numbers 0 through 11.  Assign this to a variable called `city_indices`."
   ]
  },
  {
   "cell_type": "code",
   "execution_count": 4,
   "metadata": {},
   "outputs": [
    {
     "data": {
      "text/plain": [
       "[0, 1, 2, 3, 4, 5, 6, 7, 8, 9, 10, 11]"
      ]
     },
     "execution_count": 4,
     "metadata": {},
     "output_type": "execute_result"
    }
   ],
   "source": [
    "city_indices = list(range(0, len(cities)))\n",
    "city_indices # [0, 1, 2, 3, 4, 5, 6, 7, 8, 9, 10, 11]"
   ]
  },
  {
   "cell_type": "markdown",
   "metadata": {},
   "source": [
    "Now we want to create labels for each of the cities. We'll provide a list of the `city_names` for you. "
   ]
  },
  {
   "cell_type": "code",
   "execution_count": 5,
   "metadata": {},
   "outputs": [],
   "source": [
    "city_names = ['Buenos Aires',\n",
    " 'Toronto',\n",
    " 'Marakesh',\n",
    " 'Albuquerque',\n",
    " 'Los Cabos',\n",
    " 'Greenville',\n",
    " 'Archipelago Sea',\n",
    " 'Pyeongchang',\n",
    " 'Walla Walla Valley',\n",
    " 'Salina Island',\n",
    " 'Solta',\n",
    " 'Iguazu Falls']"
   ]
  },
  {
   "cell_type": "markdown",
   "metadata": {},
   "source": [
    "Your task is to assign the variable `names_and_ranks` to a list, with each element equal to the city name and it's corresponding rank.  For example, the first element would be, `\"1. Buenos Aires\"` and the second would be `\"2. Toronto\"`.  Use a `for` loop and the lists `city_indices` and `city_names` to accomplish this.  We'll need to perform some nifty string interpolation to format our strings properly.  Check out [f-string interpolation](https://www.programiz.com/python-programming/string-interpolation#f) to see how we can pass values into a string.  Remember that list indices start at zero, but we want our `names_and_ranks` list to start at one!"
   ]
  },
  {
   "cell_type": "code",
   "execution_count": 29,
   "metadata": {},
   "outputs": [
    {
     "name": "stdout",
     "output_type": "stream",
     "text": [
      "['1. Buenos Aires', '2. Toronto', '3. Marakesh', '4. Albuquerque', '5. Los Cabos', '6. Greenville', '7. Archipelago Sea', '8. Pyeongchang', '9. Walla Walla Valley', '10. Salina Island', '11. Solta', '12. Iguazu Falls']\n"
     ]
    }
   ],
   "source": [
    "names_and_ranks = []\n",
    "for x in range(0,12):\n",
    "    c=x+1\n",
    "    value = str(c) + '. ' + city_names[x]\n",
    "    names_and_ranks.append(value)\n",
    "print(names_and_ranks)\n",
    "# write a for loop that adds the properly formatted string to the names_and_ranks list"
   ]
  },
  {
   "cell_type": "code",
   "execution_count": 27,
   "metadata": {},
   "outputs": [
    {
     "data": {
      "text/plain": [
       "'12. Iguazu Falls'"
      ]
     },
     "execution_count": 27,
     "metadata": {},
     "output_type": "execute_result"
    }
   ],
   "source": [
    "names_and_ranks[0] # '1. Buenos Aires'\n",
    "names_and_ranks[1] # '2. Toronto'\n",
    "names_and_ranks[-1] # '12. Iguazu Falls'"
   ]
  },
  {
   "cell_type": "markdown",
   "metadata": {},
   "source": [
    "Ok, now let's create a new variable called `city_populations`.  Use a `for` loop to iterate through `cities` and have `city_populations` equal to each of the populations."
   ]
  },
  {
   "cell_type": "code",
   "execution_count": 44,
   "metadata": {},
   "outputs": [],
   "source": [
    "city_populations = []\n",
    "for x in range(0,12):\n",
    "    city_populations.append(cities[x]['Population'])\n",
    "   "
   ]
  },
  {
   "cell_type": "code",
   "execution_count": 45,
   "metadata": {},
   "outputs": [
    {
     "data": {
      "text/plain": [
       "0"
      ]
     },
     "execution_count": 45,
     "metadata": {},
     "output_type": "execute_result"
    }
   ],
   "source": [
    "city_populations[0] # 2891\n",
    "city_populations[1] # 2732\n",
    "city_populations[-1] # 0"
   ]
  },
  {
   "cell_type": "markdown",
   "metadata": {},
   "source": [
    "Great! Now we can begin to plot this data.  First, let's create a trace of our populations and set it to the variable `trace_populations`."
   ]
  },
  {
   "cell_type": "code",
   "execution_count": 46,
   "metadata": {},
   "outputs": [],
   "source": [
    "trace_populations = {'x': names_and_ranks, \n",
    "                     'y': city_populations, \n",
    "                     'text': names_and_ranks, \n",
    "                     'type': 'bar', \n",
    "                     'name': 'populations'}"
   ]
  },
  {
   "cell_type": "code",
   "execution_count": 47,
   "metadata": {},
   "outputs": [
    {
     "data": {
      "text/html": [
       "<script>requirejs.config({paths: { 'plotly': ['https://cdn.plot.ly/plotly-latest.min']},});if(!window.Plotly) {{require(['plotly'],function(plotly) {window.Plotly=plotly;});}}</script>"
      ],
      "text/vnd.plotly.v1+html": [
       "<script>requirejs.config({paths: { 'plotly': ['https://cdn.plot.ly/plotly-latest.min']},});if(!window.Plotly) {{require(['plotly'],function(plotly) {window.Plotly=plotly;});}}</script>"
      ]
     },
     "metadata": {},
     "output_type": "display_data"
    },
    {
     "data": {
      "application/vnd.plotly.v1+json": {
       "data": [
        {
         "name": "populations",
         "text": [
          "1. Buenos Aires",
          "2. Toronto",
          "3. Marakesh",
          "4. Albuquerque",
          "5. Los Cabos",
          "6. Greenville",
          "7. Archipelago Sea",
          "8. Pyeongchang",
          "9. Walla Walla Valley",
          "10. Salina Island",
          "11. Solta",
          "12. Iguazu Falls"
         ],
         "type": "bar",
         "uid": "07ee7248-f523-11e9-a272-2f01d4fcf69c",
         "x": [
          "1. Buenos Aires",
          "2. Toronto",
          "3. Marakesh",
          "4. Albuquerque",
          "5. Los Cabos",
          "6. Greenville",
          "7. Archipelago Sea",
          "8. Pyeongchang",
          "9. Walla Walla Valley",
          "10. Salina Island",
          "11. Solta",
          "12. Iguazu Falls"
         ],
         "y": [
          2891,
          2732,
          929,
          559,
          288,
          93,
          60,
          44,
          33,
          3,
          2,
          0
         ]
        }
       ],
       "layout": {}
      },
      "text/html": [
       "<div id=\"b5f04a69-1f21-41e0-8f20-9a1b0f81ddaa\" style=\"height: 525px; width: 100%;\" class=\"plotly-graph-div\"></div><script type=\"text/javascript\">require([\"plotly\"], function(Plotly) { window.PLOTLYENV=window.PLOTLYENV || {};window.PLOTLYENV.BASE_URL=\"https://plot.ly\";Plotly.newPlot(\"b5f04a69-1f21-41e0-8f20-9a1b0f81ddaa\", [{\"name\": \"populations\", \"text\": [\"1. Buenos Aires\", \"2. Toronto\", \"3. Marakesh\", \"4. Albuquerque\", \"5. Los Cabos\", \"6. Greenville\", \"7. Archipelago Sea\", \"8. Pyeongchang\", \"9. Walla Walla Valley\", \"10. Salina Island\", \"11. Solta\", \"12. Iguazu Falls\"], \"x\": [\"1. Buenos Aires\", \"2. Toronto\", \"3. Marakesh\", \"4. Albuquerque\", \"5. Los Cabos\", \"6. Greenville\", \"7. Archipelago Sea\", \"8. Pyeongchang\", \"9. Walla Walla Valley\", \"10. Salina Island\", \"11. Solta\", \"12. Iguazu Falls\"], \"y\": [2891, 2732, 929, 559, 288, 93, 60, 44, 33, 3, 2, 0], \"type\": \"bar\", \"uid\": \"07f1d320-f523-11e9-a272-2f01d4fcf69c\"}], {}, {\"showLink\": true, \"linkText\": \"Export to plot.ly\"})});</script>"
      ],
      "text/vnd.plotly.v1+html": [
       "<div id=\"b5f04a69-1f21-41e0-8f20-9a1b0f81ddaa\" style=\"height: 525px; width: 100%;\" class=\"plotly-graph-div\"></div><script type=\"text/javascript\">require([\"plotly\"], function(Plotly) { window.PLOTLYENV=window.PLOTLYENV || {};window.PLOTLYENV.BASE_URL=\"https://plot.ly\";Plotly.newPlot(\"b5f04a69-1f21-41e0-8f20-9a1b0f81ddaa\", [{\"name\": \"populations\", \"text\": [\"1. Buenos Aires\", \"2. Toronto\", \"3. Marakesh\", \"4. Albuquerque\", \"5. Los Cabos\", \"6. Greenville\", \"7. Archipelago Sea\", \"8. Pyeongchang\", \"9. Walla Walla Valley\", \"10. Salina Island\", \"11. Solta\", \"12. Iguazu Falls\"], \"x\": [\"1. Buenos Aires\", \"2. Toronto\", \"3. Marakesh\", \"4. Albuquerque\", \"5. Los Cabos\", \"6. Greenville\", \"7. Archipelago Sea\", \"8. Pyeongchang\", \"9. Walla Walla Valley\", \"10. Salina Island\", \"11. Solta\", \"12. Iguazu Falls\"], \"y\": [2891, 2732, 929, 559, 288, 93, 60, 44, 33, 3, 2, 0], \"type\": \"bar\", \"uid\": \"07f1d320-f523-11e9-a272-2f01d4fcf69c\"}], {}, {\"showLink\": true, \"linkText\": \"Export to plot.ly\"})});</script>"
      ]
     },
     "metadata": {},
     "output_type": "display_data"
    }
   ],
   "source": [
    "import plotly\n",
    "plotly.offline.init_notebook_mode(connected=True)\n",
    "plotly.offline.iplot([trace_populations])"
   ]
  },
  {
   "cell_type": "markdown",
   "metadata": {},
   "source": [
    "Now we want declare a variable called `city_areas` that points to a list of all of the areas of the cities.  Let's use a `for` loop to iterate through our `cities` and have `city_areas` equal to each area of the city.  "
   ]
  },
  {
   "cell_type": "code",
   "execution_count": 50,
   "metadata": {},
   "outputs": [
    {
     "data": {
      "text/plain": [
       "[203, 630, 230, 491, 3751, 68, 2000, 1464, 35, 26, 59, 2396]"
      ]
     },
     "execution_count": 50,
     "metadata": {},
     "output_type": "execute_result"
    }
   ],
   "source": [
    "city_areas = []\n",
    "for x in range(0,12):\n",
    "    city_areas.append(cities[x]['Area'])\n",
    "city_areas    "
   ]
  },
  {
   "cell_type": "code",
   "execution_count": 51,
   "metadata": {},
   "outputs": [],
   "source": [
    "trace_areas = {'x': names_and_ranks, 'y': city_areas, 'text': names_and_ranks, 'type': 'bar', 'name': 'areas'}"
   ]
  },
  {
   "cell_type": "code",
   "execution_count": 53,
   "metadata": {},
   "outputs": [
    {
     "data": {
      "text/html": [
       "<script>requirejs.config({paths: { 'plotly': ['https://cdn.plot.ly/plotly-latest.min']},});if(!window.Plotly) {{require(['plotly'],function(plotly) {window.Plotly=plotly;});}}</script>"
      ],
      "text/vnd.plotly.v1+html": [
       "<script>requirejs.config({paths: { 'plotly': ['https://cdn.plot.ly/plotly-latest.min']},});if(!window.Plotly) {{require(['plotly'],function(plotly) {window.Plotly=plotly;});}}</script>"
      ]
     },
     "metadata": {},
     "output_type": "display_data"
    },
    {
     "data": {
      "application/vnd.plotly.v1+json": {
       "data": [
        {
         "name": "populations",
         "text": [
          "1. Buenos Aires",
          "2. Toronto",
          "3. Marakesh",
          "4. Albuquerque",
          "5. Los Cabos",
          "6. Greenville",
          "7. Archipelago Sea",
          "8. Pyeongchang",
          "9. Walla Walla Valley",
          "10. Salina Island",
          "11. Solta",
          "12. Iguazu Falls"
         ],
         "type": "bar",
         "uid": "59e44a14-f523-11e9-a272-2f01d4fcf69c",
         "x": [
          "1. Buenos Aires",
          "2. Toronto",
          "3. Marakesh",
          "4. Albuquerque",
          "5. Los Cabos",
          "6. Greenville",
          "7. Archipelago Sea",
          "8. Pyeongchang",
          "9. Walla Walla Valley",
          "10. Salina Island",
          "11. Solta",
          "12. Iguazu Falls"
         ],
         "y": [
          2891,
          2732,
          929,
          559,
          288,
          93,
          60,
          44,
          33,
          3,
          2,
          0
         ]
        }
       ],
       "layout": {}
      },
      "text/html": [
       "<div id=\"373ac41e-77ad-4a5d-a76b-9f9bfa77bcc9\" style=\"height: 525px; width: 100%;\" class=\"plotly-graph-div\"></div><script type=\"text/javascript\">require([\"plotly\"], function(Plotly) { window.PLOTLYENV=window.PLOTLYENV || {};window.PLOTLYENV.BASE_URL=\"https://plot.ly\";Plotly.newPlot(\"373ac41e-77ad-4a5d-a76b-9f9bfa77bcc9\", [{\"name\": \"populations\", \"text\": [\"1. Buenos Aires\", \"2. Toronto\", \"3. Marakesh\", \"4. Albuquerque\", \"5. Los Cabos\", \"6. Greenville\", \"7. Archipelago Sea\", \"8. Pyeongchang\", \"9. Walla Walla Valley\", \"10. Salina Island\", \"11. Solta\", \"12. Iguazu Falls\"], \"x\": [\"1. Buenos Aires\", \"2. Toronto\", \"3. Marakesh\", \"4. Albuquerque\", \"5. Los Cabos\", \"6. Greenville\", \"7. Archipelago Sea\", \"8. Pyeongchang\", \"9. Walla Walla Valley\", \"10. Salina Island\", \"11. Solta\", \"12. Iguazu Falls\"], \"y\": [2891, 2732, 929, 559, 288, 93, 60, 44, 33, 3, 2, 0], \"type\": \"bar\", \"uid\": \"59f38d30-f523-11e9-a272-2f01d4fcf69c\"}], {}, {\"showLink\": true, \"linkText\": \"Export to plot.ly\"})});</script>"
      ],
      "text/vnd.plotly.v1+html": [
       "<div id=\"373ac41e-77ad-4a5d-a76b-9f9bfa77bcc9\" style=\"height: 525px; width: 100%;\" class=\"plotly-graph-div\"></div><script type=\"text/javascript\">require([\"plotly\"], function(Plotly) { window.PLOTLYENV=window.PLOTLYENV || {};window.PLOTLYENV.BASE_URL=\"https://plot.ly\";Plotly.newPlot(\"373ac41e-77ad-4a5d-a76b-9f9bfa77bcc9\", [{\"name\": \"populations\", \"text\": [\"1. Buenos Aires\", \"2. Toronto\", \"3. Marakesh\", \"4. Albuquerque\", \"5. Los Cabos\", \"6. Greenville\", \"7. Archipelago Sea\", \"8. Pyeongchang\", \"9. Walla Walla Valley\", \"10. Salina Island\", \"11. Solta\", \"12. Iguazu Falls\"], \"x\": [\"1. Buenos Aires\", \"2. Toronto\", \"3. Marakesh\", \"4. Albuquerque\", \"5. Los Cabos\", \"6. Greenville\", \"7. Archipelago Sea\", \"8. Pyeongchang\", \"9. Walla Walla Valley\", \"10. Salina Island\", \"11. Solta\", \"12. Iguazu Falls\"], \"y\": [2891, 2732, 929, 559, 288, 93, 60, 44, 33, 3, 2, 0], \"type\": \"bar\", \"uid\": \"59f38d30-f523-11e9-a272-2f01d4fcf69c\"}], {}, {\"showLink\": true, \"linkText\": \"Export to plot.ly\"})});</script>"
      ]
     },
     "metadata": {},
     "output_type": "display_data"
    },
    {
     "data": {
      "application/vnd.plotly.v1+json": {
       "data": [
        {
         "name": "areas",
         "text": [
          "1. Buenos Aires",
          "2. Toronto",
          "3. Marakesh",
          "4. Albuquerque",
          "5. Los Cabos",
          "6. Greenville",
          "7. Archipelago Sea",
          "8. Pyeongchang",
          "9. Walla Walla Valley",
          "10. Salina Island",
          "11. Solta",
          "12. Iguazu Falls"
         ],
         "type": "bar",
         "uid": "59f6bae6-f523-11e9-a272-2f01d4fcf69c",
         "x": [
          "1. Buenos Aires",
          "2. Toronto",
          "3. Marakesh",
          "4. Albuquerque",
          "5. Los Cabos",
          "6. Greenville",
          "7. Archipelago Sea",
          "8. Pyeongchang",
          "9. Walla Walla Valley",
          "10. Salina Island",
          "11. Solta",
          "12. Iguazu Falls"
         ],
         "y": [
          203,
          630,
          230,
          491,
          3751,
          68,
          2000,
          1464,
          35,
          26,
          59,
          2396
         ]
        }
       ],
       "layout": {}
      },
      "text/html": [
       "<div id=\"225d5c8f-d2ef-4c56-a895-8c77c6970559\" style=\"height: 525px; width: 100%;\" class=\"plotly-graph-div\"></div><script type=\"text/javascript\">require([\"plotly\"], function(Plotly) { window.PLOTLYENV=window.PLOTLYENV || {};window.PLOTLYENV.BASE_URL=\"https://plot.ly\";Plotly.newPlot(\"225d5c8f-d2ef-4c56-a895-8c77c6970559\", [{\"name\": \"areas\", \"text\": [\"1. Buenos Aires\", \"2. Toronto\", \"3. Marakesh\", \"4. Albuquerque\", \"5. Los Cabos\", \"6. Greenville\", \"7. Archipelago Sea\", \"8. Pyeongchang\", \"9. Walla Walla Valley\", \"10. Salina Island\", \"11. Solta\", \"12. Iguazu Falls\"], \"x\": [\"1. Buenos Aires\", \"2. Toronto\", \"3. Marakesh\", \"4. Albuquerque\", \"5. Los Cabos\", \"6. Greenville\", \"7. Archipelago Sea\", \"8. Pyeongchang\", \"9. Walla Walla Valley\", \"10. Salina Island\", \"11. Solta\", \"12. Iguazu Falls\"], \"y\": [203, 630, 230, 491, 3751, 68, 2000, 1464, 35, 26, 59, 2396], \"type\": \"bar\", \"uid\": \"59f9b944-f523-11e9-a272-2f01d4fcf69c\"}], {}, {\"showLink\": true, \"linkText\": \"Export to plot.ly\"})});</script>"
      ],
      "text/vnd.plotly.v1+html": [
       "<div id=\"225d5c8f-d2ef-4c56-a895-8c77c6970559\" style=\"height: 525px; width: 100%;\" class=\"plotly-graph-div\"></div><script type=\"text/javascript\">require([\"plotly\"], function(Plotly) { window.PLOTLYENV=window.PLOTLYENV || {};window.PLOTLYENV.BASE_URL=\"https://plot.ly\";Plotly.newPlot(\"225d5c8f-d2ef-4c56-a895-8c77c6970559\", [{\"name\": \"areas\", \"text\": [\"1. Buenos Aires\", \"2. Toronto\", \"3. Marakesh\", \"4. Albuquerque\", \"5. Los Cabos\", \"6. Greenville\", \"7. Archipelago Sea\", \"8. Pyeongchang\", \"9. Walla Walla Valley\", \"10. Salina Island\", \"11. Solta\", \"12. Iguazu Falls\"], \"x\": [\"1. Buenos Aires\", \"2. Toronto\", \"3. Marakesh\", \"4. Albuquerque\", \"5. Los Cabos\", \"6. Greenville\", \"7. Archipelago Sea\", \"8. Pyeongchang\", \"9. Walla Walla Valley\", \"10. Salina Island\", \"11. Solta\", \"12. Iguazu Falls\"], \"y\": [203, 630, 230, 491, 3751, 68, 2000, 1464, 35, 26, 59, 2396], \"type\": \"bar\", \"uid\": \"59f9b944-f523-11e9-a272-2f01d4fcf69c\"}], {}, {\"showLink\": true, \"linkText\": \"Export to plot.ly\"})});</script>"
      ]
     },
     "metadata": {},
     "output_type": "display_data"
    },
    {
     "data": {
      "application/vnd.plotly.v1+json": {
       "data": [
        {
         "name": "populations",
         "text": [
          "1. Buenos Aires",
          "2. Toronto",
          "3. Marakesh",
          "4. Albuquerque",
          "5. Los Cabos",
          "6. Greenville",
          "7. Archipelago Sea",
          "8. Pyeongchang",
          "9. Walla Walla Valley",
          "10. Salina Island",
          "11. Solta",
          "12. Iguazu Falls"
         ],
         "type": "bar",
         "uid": "59fdb328-f523-11e9-a272-2f01d4fcf69c",
         "x": [
          "1. Buenos Aires",
          "2. Toronto",
          "3. Marakesh",
          "4. Albuquerque",
          "5. Los Cabos",
          "6. Greenville",
          "7. Archipelago Sea",
          "8. Pyeongchang",
          "9. Walla Walla Valley",
          "10. Salina Island",
          "11. Solta",
          "12. Iguazu Falls"
         ],
         "y": [
          2891,
          2732,
          929,
          559,
          288,
          93,
          60,
          44,
          33,
          3,
          2,
          0
         ]
        },
        {
         "name": "areas",
         "text": [
          "1. Buenos Aires",
          "2. Toronto",
          "3. Marakesh",
          "4. Albuquerque",
          "5. Los Cabos",
          "6. Greenville",
          "7. Archipelago Sea",
          "8. Pyeongchang",
          "9. Walla Walla Valley",
          "10. Salina Island",
          "11. Solta",
          "12. Iguazu Falls"
         ],
         "type": "bar",
         "uid": "59fdb4f4-f523-11e9-a272-2f01d4fcf69c",
         "x": [
          "1. Buenos Aires",
          "2. Toronto",
          "3. Marakesh",
          "4. Albuquerque",
          "5. Los Cabos",
          "6. Greenville",
          "7. Archipelago Sea",
          "8. Pyeongchang",
          "9. Walla Walla Valley",
          "10. Salina Island",
          "11. Solta",
          "12. Iguazu Falls"
         ],
         "y": [
          203,
          630,
          230,
          491,
          3751,
          68,
          2000,
          1464,
          35,
          26,
          59,
          2396
         ]
        }
       ],
       "layout": {}
      },
      "text/html": [
       "<div id=\"7f1cd13b-12d4-407e-a99d-bbce6e52b5a6\" style=\"height: 525px; width: 100%;\" class=\"plotly-graph-div\"></div><script type=\"text/javascript\">require([\"plotly\"], function(Plotly) { window.PLOTLYENV=window.PLOTLYENV || {};window.PLOTLYENV.BASE_URL=\"https://plot.ly\";Plotly.newPlot(\"7f1cd13b-12d4-407e-a99d-bbce6e52b5a6\", [{\"name\": \"populations\", \"text\": [\"1. Buenos Aires\", \"2. Toronto\", \"3. Marakesh\", \"4. Albuquerque\", \"5. Los Cabos\", \"6. Greenville\", \"7. Archipelago Sea\", \"8. Pyeongchang\", \"9. Walla Walla Valley\", \"10. Salina Island\", \"11. Solta\", \"12. Iguazu Falls\"], \"x\": [\"1. Buenos Aires\", \"2. Toronto\", \"3. Marakesh\", \"4. Albuquerque\", \"5. Los Cabos\", \"6. Greenville\", \"7. Archipelago Sea\", \"8. Pyeongchang\", \"9. Walla Walla Valley\", \"10. Salina Island\", \"11. Solta\", \"12. Iguazu Falls\"], \"y\": [2891, 2732, 929, 559, 288, 93, 60, 44, 33, 3, 2, 0], \"type\": \"bar\", \"uid\": \"5a0127e2-f523-11e9-a272-2f01d4fcf69c\"}, {\"name\": \"areas\", \"text\": [\"1. Buenos Aires\", \"2. Toronto\", \"3. Marakesh\", \"4. Albuquerque\", \"5. Los Cabos\", \"6. Greenville\", \"7. Archipelago Sea\", \"8. Pyeongchang\", \"9. Walla Walla Valley\", \"10. Salina Island\", \"11. Solta\", \"12. Iguazu Falls\"], \"x\": [\"1. Buenos Aires\", \"2. Toronto\", \"3. Marakesh\", \"4. Albuquerque\", \"5. Los Cabos\", \"6. Greenville\", \"7. Archipelago Sea\", \"8. Pyeongchang\", \"9. Walla Walla Valley\", \"10. Salina Island\", \"11. Solta\", \"12. Iguazu Falls\"], \"y\": [203, 630, 230, 491, 3751, 68, 2000, 1464, 35, 26, 59, 2396], \"type\": \"bar\", \"uid\": \"5a012968-f523-11e9-a272-2f01d4fcf69c\"}], {}, {\"showLink\": true, \"linkText\": \"Export to plot.ly\"})});</script>"
      ],
      "text/vnd.plotly.v1+html": [
       "<div id=\"7f1cd13b-12d4-407e-a99d-bbce6e52b5a6\" style=\"height: 525px; width: 100%;\" class=\"plotly-graph-div\"></div><script type=\"text/javascript\">require([\"plotly\"], function(Plotly) { window.PLOTLYENV=window.PLOTLYENV || {};window.PLOTLYENV.BASE_URL=\"https://plot.ly\";Plotly.newPlot(\"7f1cd13b-12d4-407e-a99d-bbce6e52b5a6\", [{\"name\": \"populations\", \"text\": [\"1. Buenos Aires\", \"2. Toronto\", \"3. Marakesh\", \"4. Albuquerque\", \"5. Los Cabos\", \"6. Greenville\", \"7. Archipelago Sea\", \"8. Pyeongchang\", \"9. Walla Walla Valley\", \"10. Salina Island\", \"11. Solta\", \"12. Iguazu Falls\"], \"x\": [\"1. Buenos Aires\", \"2. Toronto\", \"3. Marakesh\", \"4. Albuquerque\", \"5. Los Cabos\", \"6. Greenville\", \"7. Archipelago Sea\", \"8. Pyeongchang\", \"9. Walla Walla Valley\", \"10. Salina Island\", \"11. Solta\", \"12. Iguazu Falls\"], \"y\": [2891, 2732, 929, 559, 288, 93, 60, 44, 33, 3, 2, 0], \"type\": \"bar\", \"uid\": \"5a0127e2-f523-11e9-a272-2f01d4fcf69c\"}, {\"name\": \"areas\", \"text\": [\"1. Buenos Aires\", \"2. Toronto\", \"3. Marakesh\", \"4. Albuquerque\", \"5. Los Cabos\", \"6. Greenville\", \"7. Archipelago Sea\", \"8. Pyeongchang\", \"9. Walla Walla Valley\", \"10. Salina Island\", \"11. Solta\", \"12. Iguazu Falls\"], \"x\": [\"1. Buenos Aires\", \"2. Toronto\", \"3. Marakesh\", \"4. Albuquerque\", \"5. Los Cabos\", \"6. Greenville\", \"7. Archipelago Sea\", \"8. Pyeongchang\", \"9. Walla Walla Valley\", \"10. Salina Island\", \"11. Solta\", \"12. Iguazu Falls\"], \"y\": [203, 630, 230, 491, 3751, 68, 2000, 1464, 35, 26, 59, 2396], \"type\": \"bar\", \"uid\": \"5a012968-f523-11e9-a272-2f01d4fcf69c\"}], {}, {\"showLink\": true, \"linkText\": \"Export to plot.ly\"})});</script>"
      ]
     },
     "metadata": {},
     "output_type": "display_data"
    }
   ],
   "source": [
    "import plotly\n",
    "plotly.offline.init_notebook_mode(connected=True)\n",
    "plotly.offline.iplot([trace_populations])\n",
    "plotly.offline.iplot([trace_areas])\n",
    "plotly.offline.iplot([trace_populations, trace_areas])"
   ]
  },
  {
   "cell_type": "markdown",
   "metadata": {},
   "source": [
    "### Summary"
   ]
  },
  {
   "cell_type": "markdown",
   "metadata": {},
   "source": [
    "In this section we saw how we can use `for` loops to go through elements of a list and perform the same operation on each.  By using `for` loops we were able to reduce the amount of code that we wrote and while also writing more expressive code."
   ]
  }
 ],
 "metadata": {
  "kernelspec": {
   "display_name": "Python 3",
   "language": "python",
   "name": "python3"
  },
  "language_info": {
   "codemirror_mode": {
    "name": "ipython",
    "version": 3
   },
   "file_extension": ".py",
   "mimetype": "text/x-python",
   "name": "python",
   "nbconvert_exporter": "python",
   "pygments_lexer": "ipython3",
   "version": "3.6.6"
  }
 },
 "nbformat": 4,
 "nbformat_minor": 2
}
